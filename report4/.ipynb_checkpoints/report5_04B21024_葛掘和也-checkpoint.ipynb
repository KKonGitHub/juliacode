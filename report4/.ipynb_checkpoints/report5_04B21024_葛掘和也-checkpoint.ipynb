{
 "cells": [
  {
   "cell_type": "markdown",
   "metadata": {},
   "source": [
    "問１\n",
    "\n",
    "まず、元の関数を手計算で微分する。\n",
    "$$\n",
    "\\begin(align)\n",
    "\\frac{dUp}{du} &=\\frac{d}{du}  \\frac{\\pi-u}{\\gamma(\\sin(u))^{1.2}}\\\\\n",
    "               &=\\frac{-1}{\\gamma (sin(u)^{1.2})} -1.2(\\pi -u )\\frac{cos(u)}{\\gamma (s\\sin(u))^{2.2}}\\\\  \n",
    "\\end(align)\n",
    "$$\n",
    "\n",
    "\n",
    "これを整理し、符号に関わる分子の部分を抜き出したのが下のセルにあるddelt関数である。\n",
    "あとは、これの零点、つまり元の関数が極小値を取るところを探せば良い。\n",
    "今、元の関数は$u = 0,\\pi$で発散するので、極小値がこの2つの値の間で最小値となる。"
   ]
  },
  {
   "cell_type": "code",
   "execution_count": 12,
   "metadata": {},
   "outputs": [
    {
     "name": "stdout",
     "output_type": "stream",
     "text": [
      "1 : u = 2.0 , Δt = 1.2795698864950515\n",
      "2 : u = 2.5 , Δt = 1.187973227444476\n",
      "3 : u = 2.25 , Δt = 1.204874839491203\n",
      "4 : u = 2.375 , Δt = 1.1889671748172195\n",
      "5 : u = 2.4375 , Δt = 1.1865030368853275\n",
      "6 : u = 2.46875 , Δt = 1.1867271376504849\n",
      "7 : u = 2.453125 , Δt = 1.186490076930748\n",
      "8 : u = 2.4453125 , Δt = 1.1864656149439896\n",
      "9 : u = 2.44921875 , Δt = 1.1864700729580215\n",
      "10 : u = 2.447265625 , Δt = 1.1864659054740774\n",
      "11 : u = 2.4462890625 , Δt = 1.186465276178563\n",
      "12 : u = 2.44580078125 , Δt = 1.1864653246268055\n",
      "13 : u = 2.446044921875 , Δt = 1.1864652701599432\n",
      "14 : u = 2.4461669921875 , Δt = 1.1864652656074255\n",
      "15 : u = 2.44610595703125 , Δt = 1.1864652659933703\n",
      "16 : u = 2.446136474609375 , Δt = 1.1864652653278016\n",
      "17 : u = 2.4461517333984375 , Δt = 1.1864652653494625\n",
      "18 : u = 2.4461441040039062 , Δt = 1.1864652653090944\n",
      "19 : u = 2.4461402893066406 , Δt = 1.1864652653110639\n",
      "20 : u = 2.4461421966552734 , Δt = 1.1864652653082328\n",
      "21 : u = 2.44614315032959 , Δt = 1.1864652653082024\n",
      "22 : u = 2.4461426734924316 , Δt = 1.186465265308102\n",
      "23 : u = 2.4461429119110107 , Δt = 1.1864652653081234\n",
      "24 : u = 2.446142792701721 , Δt = 1.1864652653081056\n",
      "25 : u = 2.4461427330970764 , Δt = 1.186465265308102\n"
     ]
    }
   ],
   "source": [
    "using Plots\n",
    "\n",
    "\n",
    "γ = 1.0\n",
    "MAX =100\n",
    "\n",
    "function ddelt(u)\n",
    "    return -1-1.2*(π -u) /tan(u)\n",
    "end\n",
    "\n",
    "#look for solution of equation ddelt(u) = 0\n",
    "\n",
    "function delt(u)\n",
    "    return (π -u )/(γ*(sin(u))^1.2)\n",
    "end\n",
    "\n",
    "#search with dichotomy\n",
    "\n",
    "up = 3.0\n",
    "down = 1.0\n",
    "err = 1.0e-7\n",
    "\n",
    "for i in 1:1:MAX\n",
    "    tempa = (up+down)/2\n",
    "    tempval = ddelt(tempa)\n",
    "    if tempval > 0\n",
    "        up = tempa\n",
    "    elseif tempval == 0\n",
    "        println(\"Solution is $tempa .\")\n",
    "        break \n",
    "        else \n",
    "        down = tempa\n",
    "        end  \n",
    "    \n",
    "    println(\"$i : u = $tempa , Δt = $(delt(tempa))\")\n",
    "    \n",
    "    if abs(up-down) < err\n",
    "        break\n",
    "        end\n",
    "end\n",
    "\n"
   ]
  },
  {
   "cell_type": "markdown",
   "metadata": {},
   "source": [
    "問２\n",
    "\n",
    "もともと$\\Delta t$は、$u$の$t$微分を一次関数で近似するときに現れたものである。\n",
    "今、曲線を一次関数で近似しているので、一次関数で近似するその範囲、すなわち$\\Delta t$の値が大きくなればなるほど、その誤差は大きくなっていく。\n",
    "したがって、この誤差を小さくするためには、高次の補正を加えれば良い。\n",
    "今、線形で近似しているので、より精確に近似するためには、二次の項や三次の項を追加し、微小な範囲を二次関数、三次関数で近似するかたちで計算すれば、それぞれの微小領域における計算の精確さが上がり、したがって$\\Delta t$の値が大きくても大丈夫なようになると考えられる。\n",
    "これはまさにルンゲクッタ法であるので、次のレポートに該当する。\n",
    "\n",
    "\n",
    "もう一つ考えたのが、単位の変換である。\n",
    "もし時間をそのまま大きくしてしまうと、どうしても一次関数で近似するには誤差が大きくなってしまう。これはどうしても逃れようのない部分であり、これを回避するには分割を増やすしかない。\n",
    "分割を増やしつつ$\\Delta t$の値を増やすのであれば、時間の単位をより小さいものにし、式をそれに従ったものに変換すれば良い。例えば日を時間に、時間を分に、分を秒に、秒を更に小さいミリ秒やナノ秒に変換する、ということである。\n",
    "これは結局見た目上$\\Delta t$の値を大きくしているだけで、実際になにか全く新しいことをしているわけではないが、少なくとも見かけ上は$\\Delta t$の値を大きくしても大丈夫になるはずである。\n",
    "実際に次のセルでそのプログラムを組んでみる。"
   ]
  },
  {
   "cell_type": "code",
   "execution_count": 37,
   "metadata": {
    "scrolled": false
   },
   "outputs": [
    {
     "data": {},
     "execution_count": 37,
     "metadata": {},
     "output_type": "execute_result"
    },
    {
     "name": "stderr",
     "output_type": "stream",
     "text": [
      "attempt to save state beyond implementation limit\n",
      "attempt to save state beyond implementation limit\n",
      "attempt to save state beyond implementation limit\n"
     ]
    }
   ],
   "source": [
    "using Plots\n",
    "\n",
    "\n",
    "\n",
    "γ = 1.0 \n",
    "MAX = 100\n",
    "d = 0.1\n",
    "\n",
    "\n",
    "function Euler(u)\n",
    "    return u + (d*γ*(sin(u))^1.2)/10\n",
    "end\n",
    "\n",
    "\n",
    "u = u0 = 0.1\n",
    "u_sq = [u0]\n",
    "\n",
    "\n",
    "for i in 0:1:MAX\n",
    "    u = Euler(u)\n",
    "    push!(u_sq,u)\n",
    "end\n",
    "\n",
    "t_sq = [d*i for i in 0:1:MAX]\n",
    "\n",
    "plot(t_sq, u_sq)\n",
    "\n"
   ]
  },
  {
   "cell_type": "markdown",
   "metadata": {},
   "source": [
    "何回か試したのだが、どうにもメモリ"
   ]
  },
  {
   "cell_type": "code",
   "execution_count": 33,
   "metadata": {},
   "outputs": [
    {
     "name": "stdout",
     "output_type": "stream",
     "text": [
      "0.2\n",
      "0.15527864045000422\n",
      "0.11587322959692413\n",
      "0.0818330724884553\n",
      "0.05322659201838431\n",
      "0.030155702998152706\n",
      "0.012790305508272808\n",
      "0.0014808822213528208\n",
      "-0.002367341032764358\n"
     ]
    },
    {
     "ename": "LoadError",
     "evalue": "DomainError with -0.002367341032764358:\nsqrt will only return a complex result if called with a complex argument. Try sqrt(Complex(x)).",
     "output_type": "error",
     "traceback": [
      "DomainError with -0.002367341032764358:\nsqrt will only return a complex result if called with a complex argument. Try sqrt(Complex(x)).",
      "",
      "Stacktrace:",
      " [1] throw_complex_domainerror(f::Symbol, x::Float64)",
      "   @ Base.Math ./math.jl:33",
      " [2] sqrt",
      "   @ ./math.jl:677 [inlined]",
      " [3] process(d::Float64, u::Float64)",
      "   @ Main ./In[33]:8",
      " [4] top-level scope",
      "   @ ./In[33]:23"
     ]
    }
   ],
   "source": [
    "#問３\n",
    "\n",
    "u0 = 0.25\n",
    "del0 = 0.1\n",
    "\n",
    "\n",
    "function process(d,u)\n",
    "    return u - d*sqrt(u)\n",
    "end\n",
    "\n",
    "delt_sq = []\n",
    "\n",
    "\n",
    "#例外処理を使って、エラーが出るまでdを変化させ、最後に全部まとめてアニメーションにする。\n",
    "\n",
    "anim = Animation()\n",
    "for del in 0.1:0.01:3.0\n",
    "#   try\n",
    "        u = u0\n",
    "        u_sq = [u0]\n",
    "        t_sq =[0.0]\n",
    "        for i in 0:del:10\n",
    "            u = process(del,u)\n",
    "            push!(u_sq , u)\n",
    "            push!(t_sq , del*i)\n",
    "            println(u)\n",
    "        end\n",
    "        plt =  plot(t_sq,u_sq)\n",
    "        frame(anim , plt)\n",
    "#   catch\n",
    "#        println(\"The maximum Δt is $del\")\n",
    "#       break\n",
    "#   end\n",
    "end\n",
    "\n",
    "#Δtをどの大きさにしてもエラーが出る。\n",
    "#0.2\n",
    "#0.15527864045000422\n",
    "#0.11587322959692413\n",
    "#0.0818330724884553\n",
    "#0.05322659201838431\n",
    "#0.030155702998152706\n",
    "#0.012790305508272808\n",
    "#0.0014808822213528208\n",
    "#-0.002367341032764358\n",
    "#DomainError with -0.002367341032764358:\n",
    "#sqrt will only return a complex result if called with a complex argument. Try sqrt(Complex(x)).\n",
    "\n",
    "#Stacktrace:\n",
    "# [1] throw_complex_domainerror(f::Symbol, x::Float64)\n",
    "#   @ Base.Math ./math.jl:33\n",
    "# [2] sqrt\n",
    "#   @ ./math.jl:677 [inlined]\n",
    "#[3] process(d::Float64, u::Float64)\n",
    "#   @ Main ./In[33]:8\n",
    "# [4] top-level scope\n",
    "#   @ ./In[33]:23\n"
   ]
  },
  {
   "cell_type": "markdown",
   "metadata": {},
   "source": [
    "厳密解について考える。\n",
    "今、この式を$\\frac{d}{dt}\\sqrt(u)^2 = -\\sqrt(u)$と捉える。\n",
    "そうすると、うまく式を整理して、\n",
    "$$\n",
    "     2\\sqrt(u) \\frac{d}{dt} \\sqrt(u) &= -\\sqrt(u)\n",
    "     \\frac{d\\sqrt(u)}{dt} &= -\\frac{1}{2}\n",
    "$$\n",
    "あとはこれの両辺を積分して、\n",
    "$$\n",
    " u = \\frac{t^2}{4}\n",
    "$$\n",
    "がわかった。\n",
    "ただし、最初の式から傾きが負である必要があるので、この放物線のうち、ｘ軸正の部分を切り取ったような関数になる。\n",
    "よって定義域は、$t \\leq 0$でなくてはならない。\n",
    "\n",
    "これにより、上のプログラムがうまく行かない理由もわかった。\n",
    "定義域が制限されているため、どれだけ分割を細かくしようが、定義されていないところに侵入しようとした時点でどうしてもルートに負の数が渡されてしまい、結局エラーが出るのである。\n",
    "\n",
    "やり方はわからないが、この場合負の方向にはいくらでも計算ができるので、tを減少させていくようなオイラー法を作ればうまく行くと考えられる。"
   ]
  },
  {
   "cell_type": "code",
   "execution_count": 18,
   "metadata": {},
   "outputs": [
    {
     "ename": "LoadError",
     "evalue": "invalid redefinition of constant delt",
     "output_type": "error",
     "traceback": [
      "invalid redefinition of constant delt",
      "",
      "Stacktrace:",
      " [1] top-level scope",
      "   @ In[18]:1"
     ]
    }
   ],
   "source": [
    "delt =0 \n",
    "#どういうわけだか、このdeltという単語を使うと、問答無用でinvalid redefinition of constant deltというエラーが出る。\n",
    "#前のセルで定義した変数が使えない、というわけでもなさそうなのに、なぜだろうか。"
   ]
  },
  {
   "cell_type": "code",
   "execution_count": null,
   "metadata": {},
   "outputs": [],
   "source": []
  }
 ],
 "metadata": {
  "kernelspec": {
   "display_name": "Julia 1.9.3",
   "language": "julia",
   "name": "julia-1.9"
  },
  "language_info": {
   "file_extension": ".jl",
   "mimetype": "application/julia",
   "name": "julia",
   "version": "1.9.3"
  }
 },
 "nbformat": 4,
 "nbformat_minor": 4
}
